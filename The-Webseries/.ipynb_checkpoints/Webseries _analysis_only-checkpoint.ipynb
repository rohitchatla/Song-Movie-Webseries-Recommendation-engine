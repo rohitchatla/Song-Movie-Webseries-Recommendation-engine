{
 "cells": [
  {
   "cell_type": "code",
   "execution_count": 1,
   "metadata": {},
   "outputs": [],
   "source": [
    "#Webseries sentiment is same as sentiment.ipynb(as it is same for both or completely diff from both independant from both)\n",
    "import pandas as pd\n",
    "import numpy as np"
   ]
  },
  {
   "cell_type": "code",
   "execution_count": 2,
   "metadata": {},
   "outputs": [],
   "source": [
    "latest_data=pd.read_csv('webseries-data-preprocessed1.csv')"
   ]
  },
  {
   "cell_type": "code",
   "execution_count": 3,
   "metadata": {},
   "outputs": [
    {
     "data": {
      "text/html": [
       "<div>\n",
       "<style scoped>\n",
       "    .dataframe tbody tr th:only-of-type {\n",
       "        vertical-align: middle;\n",
       "    }\n",
       "\n",
       "    .dataframe tbody tr th {\n",
       "        vertical-align: top;\n",
       "    }\n",
       "\n",
       "    .dataframe thead th {\n",
       "        text-align: right;\n",
       "    }\n",
       "</style>\n",
       "<table border=\"1\" class=\"dataframe\">\n",
       "  <thead>\n",
       "    <tr style=\"text-align: right;\">\n",
       "      <th></th>\n",
       "      <th>Series Title</th>\n",
       "      <th>Year Released</th>\n",
       "      <th>Content Rating</th>\n",
       "      <th>IMDB Rating</th>\n",
       "      <th>R Rating</th>\n",
       "      <th>Genre</th>\n",
       "      <th>Description</th>\n",
       "      <th>No of Seasons</th>\n",
       "      <th>Streaming Platform</th>\n",
       "      <th>comb</th>\n",
       "    </tr>\n",
       "  </thead>\n",
       "  <tbody>\n",
       "    <tr>\n",
       "      <th>0</th>\n",
       "      <td>breaking bad</td>\n",
       "      <td>2008</td>\n",
       "      <td>18+</td>\n",
       "      <td>NaN</td>\n",
       "      <td>100</td>\n",
       "      <td>crime,drama</td>\n",
       "      <td>when walter white, a new mexico chemistry teac...</td>\n",
       "      <td>5Seasons</td>\n",
       "      <td>netflix</td>\n",
       "      <td>NaN</td>\n",
       "    </tr>\n",
       "    <tr>\n",
       "      <th>1</th>\n",
       "      <td>game of thrones</td>\n",
       "      <td>2011</td>\n",
       "      <td>18+</td>\n",
       "      <td>NaN</td>\n",
       "      <td>99</td>\n",
       "      <td>action &amp; adventure,drama</td>\n",
       "      <td>seven noble families fight for control of the ...</td>\n",
       "      <td>8Seasons</td>\n",
       "      <td>hbo max,hbo</td>\n",
       "      <td>NaN</td>\n",
       "    </tr>\n",
       "    <tr>\n",
       "      <th>2</th>\n",
       "      <td>rick and morty</td>\n",
       "      <td>2013</td>\n",
       "      <td>18+</td>\n",
       "      <td>NaN</td>\n",
       "      <td>97</td>\n",
       "      <td>animation,comedy</td>\n",
       "      <td>rick is a mentally-unbalanced but scientifical...</td>\n",
       "      <td>4Seasons</td>\n",
       "      <td>free services,hbo max,hulu</td>\n",
       "      <td>NaN</td>\n",
       "    </tr>\n",
       "    <tr>\n",
       "      <th>3</th>\n",
       "      <td>stranger things</td>\n",
       "      <td>2016</td>\n",
       "      <td>16+</td>\n",
       "      <td>NaN</td>\n",
       "      <td>96</td>\n",
       "      <td>drama,fantasy</td>\n",
       "      <td>when a young boy vanishes, a small town uncove...</td>\n",
       "      <td>3Seasons</td>\n",
       "      <td>netflix</td>\n",
       "      <td>NaN</td>\n",
       "    </tr>\n",
       "    <tr>\n",
       "      <th>4</th>\n",
       "      <td>the boys</td>\n",
       "      <td>2019</td>\n",
       "      <td>18+</td>\n",
       "      <td>NaN</td>\n",
       "      <td>95</td>\n",
       "      <td>action &amp; adventure,comedy</td>\n",
       "      <td>a group of vigilantes known informally as “the...</td>\n",
       "      <td>2Seasons</td>\n",
       "      <td>prime video</td>\n",
       "      <td>NaN</td>\n",
       "    </tr>\n",
       "  </tbody>\n",
       "</table>\n",
       "</div>"
      ],
      "text/plain": [
       "      Series Title  Year Released Content Rating IMDB Rating  R Rating  \\\n",
       "0     breaking bad           2008            18+         NaN       100   \n",
       "1  game of thrones           2011            18+         NaN        99   \n",
       "2   rick and morty           2013            18+         NaN        97   \n",
       "3  stranger things           2016            16+         NaN        96   \n",
       "4         the boys           2019            18+         NaN        95   \n",
       "\n",
       "                       Genre  \\\n",
       "0                crime,drama   \n",
       "1   action & adventure,drama   \n",
       "2           animation,comedy   \n",
       "3              drama,fantasy   \n",
       "4  action & adventure,comedy   \n",
       "\n",
       "                                         Description No of Seasons  \\\n",
       "0  when walter white, a new mexico chemistry teac...      5Seasons   \n",
       "1  seven noble families fight for control of the ...      8Seasons   \n",
       "2  rick is a mentally-unbalanced but scientifical...      4Seasons   \n",
       "3  when a young boy vanishes, a small town uncove...      3Seasons   \n",
       "4  a group of vigilantes known informally as “the...      2Seasons   \n",
       "\n",
       "           Streaming Platform comb  \n",
       "0                     netflix  NaN  \n",
       "1                 hbo max,hbo  NaN  \n",
       "2  free services,hbo max,hulu  NaN  \n",
       "3                     netflix  NaN  \n",
       "4                 prime video  NaN  "
      ]
     },
     "execution_count": 3,
     "metadata": {},
     "output_type": "execute_result"
    }
   ],
   "source": [
    "latest_data.head(5)"
   ]
  },
  {
   "cell_type": "code",
   "execution_count": 4,
   "metadata": {},
   "outputs": [
    {
     "data": {
      "text/plain": [
       "(12353, 10)"
      ]
     },
     "execution_count": 4,
     "metadata": {},
     "output_type": "execute_result"
    }
   ],
   "source": [
    "data = latest_data.loc[latest_data['Series Title']=='breaking bad',['Streaming Platform','Genre','Description','IMDB Rating','comb']]\n",
    "# data\n",
    "latest_data.shape"
   ]
  },
  {
   "cell_type": "code",
   "execution_count": 5,
   "metadata": {},
   "outputs": [],
   "source": [
    "from sklearn.feature_extraction.text import CountVectorizer\n",
    "from sklearn.metrics.pairwise import cosine_similarity\n",
    "import sys\n",
    "\n",
    "def create_similarity():\n",
    "    data = pd.read_csv('webseries-data-preprocessed1.csv')\n",
    "    # creating a count matrix or count vectorizer matrix(all tf-idf stuff)\n",
    "    cv = CountVectorizer()\n",
    "    count_matrix = cv.fit_transform(data['comb'])\n",
    "    # creating a similarity score matrix\n",
    "    similarity = cosine_similarity(count_matrix)\n",
    "    # print(similarity, flush=True)\n",
    "    #print(similarity[], file=sys.stdout)\n",
    "    #print(\"#####################\")\n",
    "    sys.stdout.flush()\n",
    "    return data,similarity\n",
    "\n",
    "def rcmd(m):\n",
    "    m = m.lower()\n",
    "    try:\n",
    "        data.head()\n",
    "        similarity.shape\n",
    "    except:\n",
    "        data, similarity = create_similarity()\n",
    "    if m not in data['Series Title'].unique():\n",
    "        return('Sorry! The Webseries you requested is not in our database. Please check the spelling or try with some other Webseries')\n",
    "    else:\n",
    "        i = data.loc[data['Series Title']==m].index[0]\n",
    "#         print(similarity[i][0])\n",
    "#         print(\"#####################\")\n",
    "        lst = list(enumerate(similarity[i]))\n",
    "        lst = sorted(lst, key = lambda x:x[1] ,reverse=True)\n",
    "        lst = lst[1:11] # excluding first item since it is the requested movie itself\n",
    "        l = []\n",
    "#         print(lst)\n",
    "        for i in range(len(lst)):\n",
    "            a = lst[i][0]\n",
    "            l.append(data['Series Title'][a])\n",
    "        return l"
   ]
  },
  {
   "cell_type": "code",
   "execution_count": 6,
   "metadata": {},
   "outputs": [
    {
     "data": {
      "text/plain": [
       "['broadchurch',\n",
       " 'american crime',\n",
       " 'sherlock',\n",
       " 'reign',\n",
       " 'power',\n",
       " 'kingdom',\n",
       " 'house of cards',\n",
       " 'pitch',\n",
       " 'collateral',\n",
       " 'baskets']"
      ]
     },
     "execution_count": 6,
     "metadata": {},
     "output_type": "execute_result"
    }
   ],
   "source": [
    "rcmd('breaking bad')"
   ]
  },
  {
   "cell_type": "code",
   "execution_count": null,
   "metadata": {},
   "outputs": [],
   "source": []
  }
 ],
 "metadata": {
  "kernelspec": {
   "display_name": "Python 3",
   "language": "python",
   "name": "python3"
  },
  "language_info": {
   "codemirror_mode": {
    "name": "ipython",
    "version": 3
   },
   "file_extension": ".py",
   "mimetype": "text/x-python",
   "name": "python",
   "nbconvert_exporter": "python",
   "pygments_lexer": "ipython3",
   "version": "3.7.3"
  }
 },
 "nbformat": 4,
 "nbformat_minor": 2
}
