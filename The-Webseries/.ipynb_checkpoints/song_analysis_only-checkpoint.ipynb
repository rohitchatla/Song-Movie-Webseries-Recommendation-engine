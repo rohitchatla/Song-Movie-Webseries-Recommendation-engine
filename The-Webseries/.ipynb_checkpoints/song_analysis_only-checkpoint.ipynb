{
 "cells": [
  {
   "cell_type": "code",
   "execution_count": 1,
   "metadata": {},
   "outputs": [],
   "source": [
    "#song sentiment is same as sentiment.ipynb(as it is same for both or completely diff from both independant from both)\n",
    "import pandas as pd\n",
    "import numpy as np"
   ]
  },
  {
   "cell_type": "code",
   "execution_count": 2,
   "metadata": {},
   "outputs": [],
   "source": [
    "latest_data=pd.read_csv('song-data-preprocessed1.csv')"
   ]
  },
  {
   "cell_type": "code",
   "execution_count": 3,
   "metadata": {},
   "outputs": [
    {
     "data": {
      "text/html": [
       "<div>\n",
       "<style scoped>\n",
       "    .dataframe tbody tr th:only-of-type {\n",
       "        vertical-align: middle;\n",
       "    }\n",
       "\n",
       "    .dataframe tbody tr th {\n",
       "        vertical-align: top;\n",
       "    }\n",
       "\n",
       "    .dataframe thead th {\n",
       "        text-align: right;\n",
       "    }\n",
       "</style>\n",
       "<table border=\"1\" class=\"dataframe\">\n",
       "  <thead>\n",
       "    <tr style=\"text-align: right;\">\n",
       "      <th></th>\n",
       "      <th>Song-Name</th>\n",
       "      <th>Singer/Artists</th>\n",
       "      <th>Genre</th>\n",
       "      <th>Album/Movie</th>\n",
       "      <th>User-Rating</th>\n",
       "      <th>comb</th>\n",
       "    </tr>\n",
       "  </thead>\n",
       "  <tbody>\n",
       "    <tr>\n",
       "      <th>0</th>\n",
       "      <td>aankh marey</td>\n",
       "      <td>kumar sanu, mika singh, neha kakkar</td>\n",
       "      <td>bollywooddance</td>\n",
       "      <td>simmba</td>\n",
       "      <td>8.8/10</td>\n",
       "      <td>aankh marey kumar sanu, mika singh, neha kakka...</td>\n",
       "    </tr>\n",
       "    <tr>\n",
       "      <th>1</th>\n",
       "      <td>coca cola</td>\n",
       "      <td>neha kakkar, tony kakkar</td>\n",
       "      <td>bollywooddanceromantic</td>\n",
       "      <td>luka chuppi</td>\n",
       "      <td>9.0/10</td>\n",
       "      <td>coca cola neha kakkar, tony kakkar coca cola l...</td>\n",
       "    </tr>\n",
       "    <tr>\n",
       "      <th>2</th>\n",
       "      <td>apna time aayega</td>\n",
       "      <td>ranveer singh</td>\n",
       "      <td>bollywooddance</td>\n",
       "      <td>gully boy</td>\n",
       "      <td>9.7/10</td>\n",
       "      <td>apna time aayega ranveer singh apna time aayeg...</td>\n",
       "    </tr>\n",
       "    <tr>\n",
       "      <th>3</th>\n",
       "      <td>mungda</td>\n",
       "      <td>jyotica tangri, shaan, subhro ganguly</td>\n",
       "      <td>bollywooddance</td>\n",
       "      <td>total dhamaal</td>\n",
       "      <td>9.1/10</td>\n",
       "      <td>mungda jyotica tangri, shaan, subhro ganguly m...</td>\n",
       "    </tr>\n",
       "    <tr>\n",
       "      <th>4</th>\n",
       "      <td>tere bin</td>\n",
       "      <td>asees kaur, rahat fateh ali khan, tanishk bagchi</td>\n",
       "      <td>bollywoodromantic</td>\n",
       "      <td>simmba</td>\n",
       "      <td>9.2/10</td>\n",
       "      <td>tere bin asees kaur, rahat fateh ali khan, tan...</td>\n",
       "    </tr>\n",
       "  </tbody>\n",
       "</table>\n",
       "</div>"
      ],
      "text/plain": [
       "          Song-Name                                    Singer/Artists  \\\n",
       "0       aankh marey               kumar sanu, mika singh, neha kakkar   \n",
       "1         coca cola                          neha kakkar, tony kakkar   \n",
       "2  apna time aayega                                     ranveer singh   \n",
       "3            mungda             jyotica tangri, shaan, subhro ganguly   \n",
       "4          tere bin  asees kaur, rahat fateh ali khan, tanishk bagchi   \n",
       "\n",
       "                    Genre    Album/Movie User-Rating  \\\n",
       "0          bollywooddance         simmba      8.8/10   \n",
       "1  bollywooddanceromantic    luka chuppi      9.0/10   \n",
       "2          bollywooddance      gully boy      9.7/10   \n",
       "3          bollywooddance  total dhamaal      9.1/10   \n",
       "4       bollywoodromantic         simmba      9.2/10   \n",
       "\n",
       "                                                comb  \n",
       "0  aankh marey kumar sanu, mika singh, neha kakka...  \n",
       "1  coca cola neha kakkar, tony kakkar coca cola l...  \n",
       "2  apna time aayega ranveer singh apna time aayeg...  \n",
       "3  mungda jyotica tangri, shaan, subhro ganguly m...  \n",
       "4  tere bin asees kaur, rahat fateh ali khan, tan...  "
      ]
     },
     "execution_count": 3,
     "metadata": {},
     "output_type": "execute_result"
    }
   ],
   "source": [
    "latest_data.head(5)"
   ]
  },
  {
   "cell_type": "code",
   "execution_count": 4,
   "metadata": {},
   "outputs": [
    {
     "data": {
      "text/plain": [
       "(2420, 6)"
      ]
     },
     "execution_count": 4,
     "metadata": {},
     "output_type": "execute_result"
    }
   ],
   "source": [
    "data = latest_data.loc[latest_data['Song-Name']=='aankh marey',['Singer/Artists','Genre','Album/Movie','User-Rating','comb','Song-Name']]\n",
    "# data\n",
    "latest_data.shape"
   ]
  },
  {
   "cell_type": "code",
   "execution_count": 5,
   "metadata": {},
   "outputs": [],
   "source": [
    "from sklearn.feature_extraction.text import CountVectorizer\n",
    "from sklearn.metrics.pairwise import cosine_similarity\n",
    "import sys\n",
    "\n",
    "def create_similarity():\n",
    "    data = pd.read_csv('song-data-preprocessed1.csv')\n",
    "    # creating a count matrix or count vectorizer matrix(all tf-idf stuff)\n",
    "    cv = CountVectorizer()\n",
    "    count_matrix = cv.fit_transform(data['comb'])\n",
    "    # creating a similarity score matrix\n",
    "    similarity = cosine_similarity(count_matrix)\n",
    "    # print(similarity, flush=True)\n",
    "    #print(similarity[], file=sys.stdout)\n",
    "    #print(\"#####################\")\n",
    "    sys.stdout.flush()\n",
    "    return data,similarity\n",
    "\n",
    "def rcmd(m):\n",
    "    m = m.lower()\n",
    "    try:\n",
    "        data.head()\n",
    "        similarity.shape\n",
    "    except:\n",
    "        data, similarity = create_similarity()\n",
    "    if m not in data['Song-Name'].unique():\n",
    "        return('Sorry! The song you requested is not in our database. Please check the spelling or try with some other song')\n",
    "    else:\n",
    "        i = data.loc[data['Song-Name']==m].index[0]\n",
    "#         print(similarity[i][0])\n",
    "#         print(\"#####################\")\n",
    "        lst = list(enumerate(similarity[i]))\n",
    "        lst = sorted(lst, key = lambda x:x[1] ,reverse=True)\n",
    "        lst = lst[1:11] # excluding first item since it is the requested movie itself\n",
    "        l = []\n",
    "#         print(lst)\n",
    "        for i in range(len(lst)):\n",
    "            a = lst[i][0]\n",
    "            l.append(data['Song-Name'][a])\n",
    "        return l"
   ]
  },
  {
   "cell_type": "code",
   "execution_count": 6,
   "metadata": {},
   "outputs": [
    {
     "data": {
      "text/plain": [
       "['helicopter',\n",
       " 'o janiya',\n",
       " 'blue (theme)',\n",
       " 'full jhol',\n",
       " 'issaqbaazi',\n",
       " 'madamiyan',\n",
       " 'gal ban gayi',\n",
       " 'london thumakda',\n",
       " 'manali trance',\n",
       " 'main tera boyfriend']"
      ]
     },
     "execution_count": 6,
     "metadata": {},
     "output_type": "execute_result"
    }
   ],
   "source": [
    "rcmd('aankh marey')"
   ]
  },
  {
   "cell_type": "code",
   "execution_count": null,
   "metadata": {},
   "outputs": [],
   "source": []
  }
 ],
 "metadata": {
  "kernelspec": {
   "display_name": "Python 3",
   "language": "python",
   "name": "python3"
  },
  "language_info": {
   "codemirror_mode": {
    "name": "ipython",
    "version": 3
   },
   "file_extension": ".py",
   "mimetype": "text/x-python",
   "name": "python",
   "nbconvert_exporter": "python",
   "pygments_lexer": "ipython3",
   "version": "3.7.3"
  }
 },
 "nbformat": 4,
 "nbformat_minor": 2
}
